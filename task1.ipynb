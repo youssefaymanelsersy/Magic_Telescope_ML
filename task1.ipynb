{
 "cells": [
  {
   "cell_type": "markdown",
   "id": "0bbb1299",
   "metadata": {},
   "source": [
    "### Imports"
   ]
  },
  {
   "cell_type": "code",
   "execution_count": 60,
   "id": "ca7d60aa",
   "metadata": {},
   "outputs": [],
   "source": [
    "import pandas as pd\n",
    "import numpy as np\n",
    "from sklearn.neighbors import KNeighborsClassifier\n",
    "import matplotlib.pyplot as plt\n",
    "from sklearn.preprocessing import StandardScaler"
   ]
  },
  {
   "cell_type": "markdown",
   "id": "aa22bf6d",
   "metadata": {},
   "source": [
    "### File handling"
   ]
  },
  {
   "cell_type": "code",
   "execution_count": 61,
   "id": "f684ad24",
   "metadata": {},
   "outputs": [],
   "source": [
    "def load_data(file_path):\n",
    "    data = pd.read_csv(file_path, index_col=0)\n",
    "    data = data.sample(frac=1, random_state=42).reset_index(drop=True)\n",
    "    return data\n"
   ]
  },
  {
   "cell_type": "markdown",
   "id": "3b87d067",
   "metadata": {},
   "source": [
    "### Balancing Data For No Bias"
   ]
  },
  {
   "cell_type": "code",
   "execution_count": 62,
   "id": "566d4fc9",
   "metadata": {},
   "outputs": [],
   "source": [
    "def balance_data(data):\n",
    "    gamma_data = data[data['class']=='g']\n",
    "    hadron_data = data[data['class']=='h']\n",
    "    min_size = min(len(gamma_data), len(hadron_data))\n",
    "    balanced_gamma = gamma_data.sample(n=min_size, random_state=42)\n",
    "    balanced_hadron = hadron_data.sample(n=min_size, random_state=42)\n",
    "    balanced_data = pd.concat([balanced_gamma, balanced_hadron])\n",
    "    balanced_data = balanced_data.sample(frac=1, random_state=42).reset_index(drop=True)\n",
    "    return balanced_data"
   ]
  },
  {
   "cell_type": "markdown",
   "id": "347134b2",
   "metadata": {},
   "source": [
    "### Data Splitting For Training, Validation & Testing"
   ]
  },
  {
   "cell_type": "code",
   "execution_count": 63,
   "id": "6be0395d",
   "metadata": {},
   "outputs": [],
   "source": [
    "def training_data_set(data):\n",
    "    train_size = int(0.7 * len(data))\n",
    "    training_data = data.iloc[:train_size].reset_index(drop=True)\n",
    "    return training_data\n",
    "\n",
    "def validation_data_set(data):\n",
    "    val_size = int(0.15 * len(data))\n",
    "    validation_data = data.iloc[int(0.7 * len(data)):int(0.7 * len(data)) + val_size].reset_index(drop=True)\n",
    "    return validation_data\n",
    "\n",
    "def test_data_set(data):\n",
    "    test_size = int(0.15 * len(data))\n",
    "    test_data = data.iloc[int(0.85 * len(data)):].reset_index(drop=True)\n",
    "    return test_data"
   ]
  },
  {
   "cell_type": "markdown",
   "id": "98ebfca4",
   "metadata": {},
   "source": [
    "### K-NN Manual Logic\n"
   ]
  },
  {
   "cell_type": "code",
   "execution_count": 64,
   "id": "6f2769a1",
   "metadata": {},
   "outputs": [],
   "source": [
    "def distance_calculation(data1, data2):\n",
    "    return np.sqrt(np.sum((data1 - data2) ** 2))\n",
    "\n",
    "def K_Nearest_Neighbors_Manual(data, k, test_sample):\n",
    "    distances =[]\n",
    "    for data1 in data.values:\n",
    "        data_train = data1[:-1]\n",
    "        dist = distance_calculation(data_train, test_sample)\n",
    "        label = data1[-1]\n",
    "        distances.append((dist, label))\n",
    "        \n",
    "    distances.sort(key=lambda x: x[0])\n",
    "    neighbors = distances[:k]\n",
    "    gamma_count = sum(1 for neighbor in neighbors if neighbor[1] == 'g')\n",
    "    hadron_count = k - gamma_count\n",
    "    if gamma_count > hadron_count:\n",
    "        return 'g'\n",
    "    return 'h'"
   ]
  },
  {
   "cell_type": "markdown",
   "id": "3a3afae3",
   "metadata": {},
   "source": [
    "### K-NN Logic (SKlearn)"
   ]
  },
  {
   "cell_type": "code",
   "execution_count": 65,
   "id": "ff0d9390",
   "metadata": {},
   "outputs": [],
   "source": [
    "def K_Nearest_Neighbors_Sklearn(data, k, test_sample):\n",
    "    x = data.iloc[:, :-1].values\n",
    "    y = data.iloc[:, -1].values\n",
    "    model = KNeighborsClassifier(n_neighbors=k)\n",
    "    model.fit(x, y)\n",
    "    prediction = model.predict([test_sample])\n",
    "    return prediction[0]"
   ]
  },
  {
   "cell_type": "markdown",
   "id": "2d2aa6cc",
   "metadata": {},
   "source": [
    "### Accuracy Testing For Manual Approach"
   ]
  },
  {
   "cell_type": "code",
   "execution_count": 66,
   "id": "77d9fbeb",
   "metadata": {},
   "outputs": [],
   "source": [
    "def accuracy_manual(train_data, k, test_data):\n",
    "    X_train = train_data.iloc[:, :-1].values.astype(float)\n",
    "    y_train = train_data.iloc[:, -1].values\n",
    "    X_test = test_data.iloc[:, :-1].values.astype(float)\n",
    "    y_test = test_data.iloc[:, -1].values\n",
    "\n",
    "    correct = 0\n",
    "    for test_sample, true_label in zip(X_test, y_test):\n",
    "        distances = np.sqrt(np.sum((X_train - test_sample)**2, axis=1))\n",
    "        k_idx = np.argsort(distances)[:k]\n",
    "        k_labels = y_train[k_idx]\n",
    "        prediction = 'g' if np.sum(k_labels == 'g') > np.sum(k_labels == 'h') else 'h'\n",
    "        if prediction == true_label:\n",
    "            correct += 1\n",
    "    return correct / len(y_test)"
   ]
  },
  {
   "cell_type": "markdown",
   "id": "f1bec8dc",
   "metadata": {},
   "source": [
    "### Accuracy Testing For SKlearn Approach"
   ]
  },
  {
   "cell_type": "code",
   "execution_count": 67,
   "id": "b0aa38e0",
   "metadata": {},
   "outputs": [],
   "source": [
    "def accuracy_sklearn(train_data, k, test_data):\n",
    "    x_train = train_data.iloc[:, :-1].values\n",
    "    y_train = train_data.iloc[:, -1].values\n",
    "\n",
    "    x_test = test_data.iloc[:, :-1].values\n",
    "    y_test = test_data.iloc[:, -1].values\n",
    "\n",
    "    model = KNeighborsClassifier(n_neighbors=k)\n",
    "    model.fit(x_train, y_train)\n",
    "\n",
    "    predictions = model.predict(x_test)\n",
    "    accuracy = np.mean(predictions == y_test)\n",
    "    return accuracy\n"
   ]
  },
  {
   "cell_type": "markdown",
   "id": "a6690794",
   "metadata": {},
   "source": [
    "### Plotting\n"
   ]
  },
  {
   "cell_type": "code",
   "execution_count": 68,
   "id": "433fbcf9",
   "metadata": {},
   "outputs": [],
   "source": [
    "def plot_accuracies(k_values, manual_accuracies, sklearn_accuracies):\n",
    "    plt.plot(k_values, manual_accuracies, label='Manual KNN', marker='o')\n",
    "    plt.plot(k_values, sklearn_accuracies, label='Sklearn KNN', marker='x')\n",
    "    plt.xlabel('K value')\n",
    "    plt.ylabel('Accuracy')\n",
    "    plt.title('KNN Accuracy Comparison')\n",
    "    plt.legend()\n",
    "    plt.grid()\n",
    "    plt.show()"
   ]
  },
  {
   "cell_type": "markdown",
   "id": "8efd6732",
   "metadata": {},
   "source": [
    "### Loading Data And Splitting It"
   ]
  },
  {
   "cell_type": "code",
   "execution_count": 69,
   "id": "fac8109c",
   "metadata": {},
   "outputs": [],
   "source": [
    "data = load_data(\"telescope_data.csv\")\n",
    "balanced_data = balance_data(data)\n",
    "\n",
    "train = training_data_set(balanced_data)\n",
    "val = validation_data_set(balanced_data)\n",
    "test = test_data_set(balanced_data)"
   ]
  },
  {
   "cell_type": "markdown",
   "id": "3640d84f",
   "metadata": {},
   "source": [
    "### Preprocessing & Standardizing Of Parameters"
   ]
  },
  {
   "cell_type": "code",
   "execution_count": 70,
   "id": "7277d230",
   "metadata": {},
   "outputs": [],
   "source": [
    "scaler = StandardScaler()\n",
    "scaler.fit(train.iloc[:, :-1])\n",
    "\n",
    "train.iloc[:, :-1] = scaler.transform(train.iloc[:, :-1])\n",
    "val.iloc[:, :-1] = scaler.transform(val.iloc[:, :-1])\n",
    "test.iloc[:, :-1] = scaler.transform(test.iloc[:, :-1])"
   ]
  },
  {
   "cell_type": "markdown",
   "id": "a606df7c",
   "metadata": {},
   "source": [
    "### Testing Range To Find Best K (Manual & SKlearn)"
   ]
  },
  {
   "cell_type": "code",
   "execution_count": null,
   "id": "cf1cd958",
   "metadata": {},
   "outputs": [
    {
     "name": "stdout",
     "output_type": "stream",
     "text": [
      "k=1  →  Manual: 0.785,  Sklearn: 0.785\n",
      "k=2  →  Manual: 0.777,  Sklearn: 0.772\n",
      "k=3  →  Manual: 0.800,  Sklearn: 0.800\n",
      "k=4  →  Manual: 0.801,  Sklearn: 0.790\n",
      "k=5  →  Manual: 0.807,  Sklearn: 0.807\n",
      "k=6  →  Manual: 0.810,  Sklearn: 0.802\n",
      "k=7  →  Manual: 0.813,  Sklearn: 0.813\n",
      "k=8  →  Manual: 0.820,  Sklearn: 0.806\n",
      "k=9  →  Manual: 0.823,  Sklearn: 0.823\n",
      "k=10  →  Manual: 0.825,  Sklearn: 0.815\n",
      "    fLength   fWidth   fSize   fConc  fConc1    fAsym   fM3Long  fM3Trans  \\\n",
      "0   48.0573  11.0862  2.9571  0.3620  0.1882   0.4200   32.4358   -2.2992   \n",
      "1   23.4858   0.0000  2.2393  0.7378  0.3775  -2.9397   13.0915    0.0001   \n",
      "2   40.5429  19.4073  3.3382  0.2369  0.1269  29.1908   27.0567   -7.1243   \n",
      "3   16.6123   7.8423  2.5572  0.5829  0.3371   6.7271  -10.3448   -2.3240   \n",
      "4  205.4250  37.7936  3.2727  0.2167  0.1257  46.0952 -210.9350  -29.7478   \n",
      "\n",
      "    fAlpha     fDist class  \n",
      "0  26.9300  165.2240     h  \n",
      "1  19.3410  235.3420     g  \n",
      "2  10.0643  195.6030     g  \n",
      "3  14.5111  214.2655     h  \n",
      "4  60.0580  206.1730     h  \n"
     ]
    }
   ],
   "source": [
    "k_values = range(1, 11)\n",
    "manual_accuracies = []\n",
    "sklearn_accuracies = []\n",
    "\n",
    "for k in k_values:\n",
    "    acc_manual = accuracy_manual(train, k, val)\n",
    "    acc_sklearn = accuracy_sklearn(train, k, val)\n",
    "    manual_accuracies.append(acc_manual)\n",
    "    sklearn_accuracies.append(acc_sklearn)\n",
    "    print(f\"k={k}  →  Manual: {acc_manual:.3f},  Sklearn: {acc_sklearn:.3f}\")"
   ]
  },
  {
   "cell_type": "markdown",
   "id": "b4e75417",
   "metadata": {},
   "source": [
    "### Final Evaluation Using Best K With Test Data (Manual & SKlearn)"
   ]
  },
  {
   "cell_type": "code",
   "execution_count": 59,
   "id": "b4a122c0",
   "metadata": {},
   "outputs": [
    {
     "name": "stdout",
     "output_type": "stream",
     "text": [
      "Final accuracy on test sklearn set with k=9: 0.822\n",
      "Final accuracy on test manual set with k=10: 0.826\n"
     ]
    }
   ],
   "source": [
    "best_k_sklearn = k_values[np.argmax(sklearn_accuracies)]\n",
    "best_k_manual = k_values[np.argmax(manual_accuracies)]\n",
    "final_accuracy_sklearn = accuracy_sklearn(train, best_k_sklearn, test)\n",
    "final_accuracy_manual = accuracy_manual(train, best_k_manual, test)\n",
    "print(f\"Final accuracy on test sklearn set with k={best_k_sklearn}: {final_accuracy_sklearn:.3f}\")\n",
    "print(f\"Final accuracy on test manual set with k={best_k_manual}: {final_accuracy_manual:.3f}\")"
   ]
  },
  {
   "cell_type": "markdown",
   "id": "1970f500",
   "metadata": {},
   "source": [
    "### Plot\n",
    "\n",
    "\n"
   ]
  },
  {
   "cell_type": "code",
   "execution_count": 58,
   "id": "7c6b388a",
   "metadata": {},
   "outputs": [
    {
     "data": {
      "image/png": "[encoded data removed]",
      "text/plain": [
       "<Figure size 640x480 with 1 Axes>"
      ]
     },
     "metadata": {},
     "output_type": "display_data"
    }
   ],
   "source": [
    "plot_accuracies(k_values, manual_accuracies, sklearn_accuracies)"
   ]
  },
  {
   "cell_type": "markdown",
   "id": "2a9911ed",
   "metadata": {},
   "source": [
    "# Comparisons\n",
    "## Manual Implementation:\n",
    "### The manual KNN achieved nearly identical results to the sklearn model. This verifies that the Euclidean distance calculation, sorting, and majority voting logic were implemented correctly.\n",
    "\n",
    "## Sklearn Implementation:\n",
    "### The sklearn model is more optimized and faster to train/evaluate. It also provides built-in handling for distance weighting and parameter tuning if needed."
   ]
  },
  {
   "cell_type": "markdown",
   "id": "03c4f6e9",
   "metadata": {},
   "source": [
    "# Overfitting and Underfitting Trends\n",
    "\n",
    "## Low k (1–3):\n",
    "###   The classifier fits very tightly to the training data and reacts strongly to individual noisy points.\n",
    "###   This is a sign of overfitting — the model captures small fluctuations in the training set that don’t generalize well.\n",
    "\n",
    "## Medium k (5–9):\n",
    "###   The accuracy improves and stabilizes, showing that the model now considers more neighbors, achieving a good bias-variance balance.\n",
    "###   This range represents optimal model complexity.\n",
    "\n",
    "## High k (10+):\n",
    "###   Accuracy slightly levels off, indicating the start of underfitting — the model becomes smoother and less sensitive to local patterns.\n",
    "###   However, since performance remains high (~0.82), the model still generalizes well."
   ]
  }
 ],
 "metadata": {
  "kernelspec": {
   "display_name": "Python 3",
   "language": "python",
   "name": "python3"
  },
  "language_info": {
   "codemirror_mode": {
    "name": "ipython",
    "version": 3
   },
   "file_extension": ".py",
   "mimetype": "text/x-python",
   "name": "python",
   "nbconvert_exporter": "python",
   "pygments_lexer": "ipython3",
   "version": "3.12.3"
  }
 },
 "nbformat": 4,
 "nbformat_minor": 5
}
